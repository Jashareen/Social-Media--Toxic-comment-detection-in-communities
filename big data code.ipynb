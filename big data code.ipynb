{
 "cells": [
  {
   "cell_type": "code",
   "execution_count": 0,
   "metadata": {
    "application/vnd.databricks.v1+cell": {
     "cellMetadata": {
      "byteLimit": 2048000,
      "rowLimit": 10000
     },
     "inputWidgets": {},
     "nuid": "15eb26d2-dd79-4781-8e46-697a1c466def",
     "showTitle": false,
     "tableResultSettingsMap": {},
     "title": ""
    }
   },
   "outputs": [],
   "source": [
    "import pandas as pd\n",
    "df=pd.read_csv(\"tds.csv\")"
   ]
  },
  {
   "cell_type": "code",
   "execution_count": 0,
   "metadata": {
    "application/vnd.databricks.v1+cell": {
     "cellMetadata": {
      "byteLimit": 2048000,
      "rowLimit": 10000
     },
     "inputWidgets": {},
     "nuid": "057949ef-4c91-4fda-bb20-9262080d0029",
     "showTitle": false,
     "tableResultSettingsMap": {},
     "title": ""
    }
   },
   "outputs": [
    {
     "output_type": "stream",
     "name": "stdout",
     "output_type": "stream",
     "text": [
      "+--------------------+-----------+--------------------+-------+---------+--------+-------------+---------+------------+--------+-------------+--------+------------+---------------+------------+\n|           CommentId|    VideoId|                Text|IsToxic|IsAbusive|IsThreat|IsProvocative|IsObscene|IsHatespeech|IsRacist|IsNationalist|IsSexist|IsHomophobic|IsReligiousHate|IsRadicalism|\n+--------------------+-----------+--------------------+-------+---------+--------+-------------+---------+------------+--------+-------------+--------+------------+---------------+------------+\n|Ugg2KwwX0V8-aXgCoAEC|04kJtp6pVXI|If only people wo...|  false|    false|   false|        false|    false|       false|   false|        false|   false|       false|          false|       false|\n|Ugg2s5AzSPioEXgCoAEC|04kJtp6pVXI|Law enforcement i...|   true|     true|   false|        false|    false|       false|   false|        false|   false|       false|          false|       false|\n|Ugg3dWTOxryFfHgCoAEC|04kJtp6pVXI|\\nDont you reckon...|   true|     true|   false|        false|     true|       false|   false|        false|   false|       false|          false|       false|\n|Ugg7Gd006w1MPngCoAEC|04kJtp6pVXI|There are a very ...|  false|    false|   false|        false|    false|       false|   false|        false|   false|       false|          false|       false|\n|Ugg8FfTbbNF8IngCoAEC|04kJtp6pVXI|The Arab dude is ...|  false|    false|   false|        false|    false|       false|   false|        false|   false|       false|          false|       false|\n+--------------------+-----------+--------------------+-------+---------+--------+-------------+---------+------------+--------+-------------+--------+------------+---------------+------------+\nonly showing top 5 rows\n"
     ]
    }
   ],
   "source": [
    "# Import SparkSession\n",
    "from pyspark.sql import SparkSession\n",
    "\n",
    "# Create or get existing Spark session\n",
    "spark = SparkSession.builder.appName(\"TDS Data\").getOrCreate()\n",
    "\n",
    "# Assuming you already have a pandas DataFrame named 'df'\n",
    "spark_df = spark.createDataFrame(df)\n",
    "\n",
    "# Show a few rows to verify\n",
    "spark_df.show(5)\n"
   ]
  },
  {
   "cell_type": "code",
   "execution_count": 0,
   "metadata": {
    "application/vnd.databricks.v1+cell": {
     "cellMetadata": {
      "byteLimit": 2048000,
      "rowLimit": 10000
     },
     "inputWidgets": {},
     "nuid": "0e56e0d4-b629-46d4-adbb-2be2f592a348",
     "showTitle": false,
     "tableResultSettingsMap": {},
     "title": ""
    }
   },
   "outputs": [
    {
     "output_type": "stream",
     "name": "stdout",
     "output_type": "stream",
     "text": [
      "root\n |-- CommentId: string (nullable = true)\n |-- VideoId: string (nullable = true)\n |-- Text: string (nullable = true)\n |-- IsToxic: boolean (nullable = true)\n |-- IsAbusive: boolean (nullable = true)\n |-- IsThreat: boolean (nullable = true)\n |-- IsProvocative: boolean (nullable = true)\n |-- IsObscene: boolean (nullable = true)\n |-- IsHatespeech: boolean (nullable = true)\n |-- IsRacist: boolean (nullable = true)\n |-- IsNationalist: boolean (nullable = true)\n |-- IsSexist: boolean (nullable = true)\n |-- IsHomophobic: boolean (nullable = true)\n |-- IsReligiousHate: boolean (nullable = true)\n |-- IsRadicalism: boolean (nullable = true)\n\n+--------------------+-----------+--------------------+-------+---------+--------+-------------+---------+------------+--------+-------------+--------+------------+---------------+------------+\n|           CommentId|    VideoId|                Text|IsToxic|IsAbusive|IsThreat|IsProvocative|IsObscene|IsHatespeech|IsRacist|IsNationalist|IsSexist|IsHomophobic|IsReligiousHate|IsRadicalism|\n+--------------------+-----------+--------------------+-------+---------+--------+-------------+---------+------------+--------+-------------+--------+------------+---------------+------------+\n|Ugg2KwwX0V8-aXgCoAEC|04kJtp6pVXI|If only people wo...|  false|    false|   false|        false|    false|       false|   false|        false|   false|       false|          false|       false|\n|Ugg2s5AzSPioEXgCoAEC|04kJtp6pVXI|Law enforcement i...|   true|     true|   false|        false|    false|       false|   false|        false|   false|       false|          false|       false|\n|Ugg3dWTOxryFfHgCoAEC|04kJtp6pVXI|\\nDont you reckon...|   true|     true|   false|        false|     true|       false|   false|        false|   false|       false|          false|       false|\n|Ugg7Gd006w1MPngCoAEC|04kJtp6pVXI|There are a very ...|  false|    false|   false|        false|    false|       false|   false|        false|   false|       false|          false|       false|\n|Ugg8FfTbbNF8IngCoAEC|04kJtp6pVXI|The Arab dude is ...|  false|    false|   false|        false|    false|       false|   false|        false|   false|       false|          false|       false|\n+--------------------+-----------+--------------------+-------+---------+--------+-------------+---------+------------+--------+-------------+--------+------------+---------------+------------+\nonly showing top 5 rows\n"
     ]
    }
   ],
   "source": [
    "# Step 1: Import required libraries\n",
    "\n",
    "from pyspark.sql import SparkSession\n",
    "\n",
    "# Step 2: Create Spark session (Databricks already has one by default)\n",
    "spark = SparkSession.builder.appName(\"ToxicCommentAnalysis\").getOrCreate()\n",
    "\n",
    "# Step 3: Load dataset using pandas\n",
    "df = pd.read_csv(\"tds.csv\")\n",
    "\n",
    "# Step 4: Convert pandas DataFrame to Spark DataFrame\n",
    "spark_df = spark.createDataFrame(df)\n",
    "\n",
    "# Step 5: Verify the conversion\n",
    "spark_df.printSchema()\n",
    "spark_df.show(5)\n"
   ]
  },
  {
   "cell_type": "code",
   "execution_count": 0,
   "metadata": {
    "application/vnd.databricks.v1+cell": {
     "cellMetadata": {
      "byteLimit": 2048000,
      "rowLimit": 10000
     },
     "inputWidgets": {},
     "nuid": "6e181cf5-2a5d-4851-819f-88214b37a86a",
     "showTitle": false,
     "tableResultSettingsMap": {},
     "title": ""
    }
   },
   "outputs": [
    {
     "output_type": "stream",
     "name": "stdout",
     "output_type": "stream",
     "text": [
      "root\n |-- CommentId: string (nullable = true)\n |-- VideoId: string (nullable = true)\n |-- Text: string (nullable = true)\n |-- IsToxic: boolean (nullable = true)\n |-- IsAbusive: boolean (nullable = true)\n |-- IsThreat: boolean (nullable = true)\n |-- IsProvocative: boolean (nullable = true)\n |-- IsObscene: boolean (nullable = true)\n |-- IsHatespeech: boolean (nullable = true)\n |-- IsRacist: boolean (nullable = true)\n |-- IsNationalist: boolean (nullable = true)\n |-- IsSexist: boolean (nullable = true)\n |-- IsHomophobic: boolean (nullable = true)\n |-- IsReligiousHate: boolean (nullable = true)\n |-- IsRadicalism: boolean (nullable = true)\n\n"
     ]
    },
    {
     "output_type": "display_data",
     "data": {
      "text/html": [
       "<style scoped>\n",
       "  .table-result-container {\n",
       "    max-height: 300px;\n",
       "    overflow: auto;\n",
       "  }\n",
       "  table, th, td {\n",
       "    border: 1px solid black;\n",
       "    border-collapse: collapse;\n",
       "  }\n",
       "  th, td {\n",
       "    padding: 5px;\n",
       "  }\n",
       "  th {\n",
       "    text-align: left;\n",
       "  }\n",
       "</style><div class='table-result-container'><table class='table-result'><thead style='background-color: white'><tr><th>summary</th><th>CommentId</th><th>VideoId</th><th>Text</th></tr></thead><tbody><tr><td>count</td><td>1000</td><td>1000</td><td>1000</td></tr><tr><td>mean</td><td>null</td><td>null</td><td>null</td></tr><tr><td>stddev</td><td>null</td><td>null</td><td>null</td></tr><tr><td>min</td><td>Ugg-IKh_49-oy3gCoAEC</td><td>#NAME?</td><td>\n",
       "Dont you reckon them 'black lives matter' banners being held by white cunts is  kinda patronizing and ironically racist. could they have not come up with somethin better.. or is it just what white folks do to give them selves pride. 'ooo look at me im being nice for the black people' why does it always have to be about race actually the whole world is pussyfootin around for fear of being racist. its fuckin daft man.</td></tr><tr><td>max</td><td>UgzznaHifWKSzSekoZ94AaABAg</td><td>dG7mZQvaQDk</td><td>“Do White children deserve to have a future?\n",
       "Tens of millions of non-Whites flooding into White countries every year will, in a few decades, mean that Whites will be a minority in every country they founded.\n",
       "Black countries will remain majority Black, and Asian countries will remain majority Asian.\n",
       "Only White countries will be affected by this. This is genocide under international law.\n",
       "But anti-Whites don’t call it genocide; they call it diversity.\n",
       "Diversity means chasing down every last White child.\n",
       "Anti-racist is a codeword for anti-White.”</td></tr></tbody></table></div>"
      ]
     },
     "metadata": {
      "application/vnd.databricks.v1+output": {
       "addedWidgets": {},
       "aggData": [],
       "aggError": "",
       "aggOverflow": false,
       "aggSchema": [],
       "aggSeriesLimitReached": false,
       "aggType": "",
       "arguments": {},
       "columnCustomDisplayInfos": {},
       "data": [
        [
         "count",
         "1000",
         "1000",
         "1000"
        ],
        [
         "mean",
         null,
         null,
         null
        ],
        [
         "stddev",
         null,
         null,
         null
        ],
        [
         "min",
         "Ugg-IKh_49-oy3gCoAEC",
         "#NAME?",
         "\nDont you reckon them 'black lives matter' banners being held by white cunts is  kinda patronizing and ironically racist. could they have not come up with somethin better.. or is it just what white folks do to give them selves pride. 'ooo look at me im being nice for the black people' why does it always have to be about race actually the whole world is pussyfootin around for fear of being racist. its fuckin daft man."
        ],
        [
         "max",
         "UgzznaHifWKSzSekoZ94AaABAg",
         "dG7mZQvaQDk",
         "“Do White children deserve to have a future?\nTens of millions of non-Whites flooding into White countries every year will, in a few decades, mean that Whites will be a minority in every country they founded.\nBlack countries will remain majority Black, and Asian countries will remain majority Asian.\nOnly White countries will be affected by this. This is genocide under international law.\nBut anti-Whites don’t call it genocide; they call it diversity.\nDiversity means chasing down every last White child.\nAnti-racist is a codeword for anti-White.”"
        ]
       ],
       "datasetInfos": [],
       "dbfsResultPath": null,
       "isJsonSchema": true,
       "metadata": {},
       "overflow": false,
       "plotOptions": {
        "customPlotOptions": {},
        "displayType": "table",
        "pivotAggregation": null,
        "pivotColumns": null,
        "xColumns": null,
        "yColumns": null
       },
       "removedWidgets": [],
       "schema": [
        {
         "metadata": "{}",
         "name": "summary",
         "type": "\"string\""
        },
        {
         "metadata": "{}",
         "name": "CommentId",
         "type": "\"string\""
        },
        {
         "metadata": "{}",
         "name": "VideoId",
         "type": "\"string\""
        },
        {
         "metadata": "{}",
         "name": "Text",
         "type": "\"string\""
        }
       ],
       "type": "table"
      }
     },
     "output_type": "display_data"
    },
    {
     "output_type": "stream",
     "name": "stdout",
     "output_type": "stream",
     "text": [
      "\uD83D\uDD39 Count of TRUE/FALSE for column: IsToxic\n"
     ]
    },
    {
     "output_type": "display_data",
     "data": {
      "text/html": [
       "<style scoped>\n",
       "  .table-result-container {\n",
       "    max-height: 300px;\n",
       "    overflow: auto;\n",
       "  }\n",
       "  table, th, td {\n",
       "    border: 1px solid black;\n",
       "    border-collapse: collapse;\n",
       "  }\n",
       "  th, td {\n",
       "    padding: 5px;\n",
       "  }\n",
       "  th {\n",
       "    text-align: left;\n",
       "  }\n",
       "</style><div class='table-result-container'><table class='table-result'><thead style='background-color: white'><tr><th>IsToxic</th><th>count</th></tr></thead><tbody><tr><td>false</td><td>538</td></tr><tr><td>true</td><td>462</td></tr></tbody></table></div>"
      ]
     },
     "metadata": {
      "application/vnd.databricks.v1+output": {
       "addedWidgets": {},
       "aggData": [],
       "aggError": "",
       "aggOverflow": false,
       "aggSchema": [],
       "aggSeriesLimitReached": false,
       "aggType": "",
       "arguments": {},
       "columnCustomDisplayInfos": {},
       "data": [
        [
         false,
         538
        ],
        [
         true,
         462
        ]
       ],
       "datasetInfos": [],
       "dbfsResultPath": null,
       "isJsonSchema": true,
       "metadata": {},
       "overflow": false,
       "plotOptions": {
        "customPlotOptions": {},
        "displayType": "table",
        "pivotAggregation": null,
        "pivotColumns": null,
        "xColumns": null,
        "yColumns": null
       },
       "removedWidgets": [],
       "schema": [
        {
         "metadata": "{}",
         "name": "IsToxic",
         "type": "\"boolean\""
        },
        {
         "metadata": "{}",
         "name": "count",
         "type": "\"long\""
        }
       ],
       "type": "table"
      }
     },
     "output_type": "display_data"
    },
    {
     "output_type": "stream",
     "name": "stdout",
     "output_type": "stream",
     "text": [
      "\uD83D\uDD39 Count of TRUE/FALSE for column: IsAbusive\n"
     ]
    },
    {
     "output_type": "display_data",
     "data": {
      "text/html": [
       "<style scoped>\n",
       "  .table-result-container {\n",
       "    max-height: 300px;\n",
       "    overflow: auto;\n",
       "  }\n",
       "  table, th, td {\n",
       "    border: 1px solid black;\n",
       "    border-collapse: collapse;\n",
       "  }\n",
       "  th, td {\n",
       "    padding: 5px;\n",
       "  }\n",
       "  th {\n",
       "    text-align: left;\n",
       "  }\n",
       "</style><div class='table-result-container'><table class='table-result'><thead style='background-color: white'><tr><th>IsAbusive</th><th>count</th></tr></thead><tbody><tr><td>false</td><td>647</td></tr><tr><td>true</td><td>353</td></tr></tbody></table></div>"
      ]
     },
     "metadata": {
      "application/vnd.databricks.v1+output": {
       "addedWidgets": {},
       "aggData": [],
       "aggError": "",
       "aggOverflow": false,
       "aggSchema": [],
       "aggSeriesLimitReached": false,
       "aggType": "",
       "arguments": {},
       "columnCustomDisplayInfos": {},
       "data": [
        [
         false,
         647
        ],
        [
         true,
         353
        ]
       ],
       "datasetInfos": [],
       "dbfsResultPath": null,
       "isJsonSchema": true,
       "metadata": {},
       "overflow": false,
       "plotOptions": {
        "customPlotOptions": {},
        "displayType": "table",
        "pivotAggregation": null,
        "pivotColumns": null,
        "xColumns": null,
        "yColumns": null
       },
       "removedWidgets": [],
       "schema": [
        {
         "metadata": "{}",
         "name": "IsAbusive",
         "type": "\"boolean\""
        },
        {
         "metadata": "{}",
         "name": "count",
         "type": "\"long\""
        }
       ],
       "type": "table"
      }
     },
     "output_type": "display_data"
    },
    {
     "output_type": "stream",
     "name": "stdout",
     "output_type": "stream",
     "text": [
      "\uD83D\uDD39 Count of TRUE/FALSE for column: IsThreat\n"
     ]
    },
    {
     "output_type": "display_data",
     "data": {
      "text/html": [
       "<style scoped>\n",
       "  .table-result-container {\n",
       "    max-height: 300px;\n",
       "    overflow: auto;\n",
       "  }\n",
       "  table, th, td {\n",
       "    border: 1px solid black;\n",
       "    border-collapse: collapse;\n",
       "  }\n",
       "  th, td {\n",
       "    padding: 5px;\n",
       "  }\n",
       "  th {\n",
       "    text-align: left;\n",
       "  }\n",
       "</style><div class='table-result-container'><table class='table-result'><thead style='background-color: white'><tr><th>IsThreat</th><th>count</th></tr></thead><tbody><tr><td>false</td><td>979</td></tr><tr><td>true</td><td>21</td></tr></tbody></table></div>"
      ]
     },
     "metadata": {
      "application/vnd.databricks.v1+output": {
       "addedWidgets": {},
       "aggData": [],
       "aggError": "",
       "aggOverflow": false,
       "aggSchema": [],
       "aggSeriesLimitReached": false,
       "aggType": "",
       "arguments": {},
       "columnCustomDisplayInfos": {},
       "data": [
        [
         false,
         979
        ],
        [
         true,
         21
        ]
       ],
       "datasetInfos": [],
       "dbfsResultPath": null,
       "isJsonSchema": true,
       "metadata": {},
       "overflow": false,
       "plotOptions": {
        "customPlotOptions": {},
        "displayType": "table",
        "pivotAggregation": null,
        "pivotColumns": null,
        "xColumns": null,
        "yColumns": null
       },
       "removedWidgets": [],
       "schema": [
        {
         "metadata": "{}",
         "name": "IsThreat",
         "type": "\"boolean\""
        },
        {
         "metadata": "{}",
         "name": "count",
         "type": "\"long\""
        }
       ],
       "type": "table"
      }
     },
     "output_type": "display_data"
    },
    {
     "output_type": "stream",
     "name": "stdout",
     "output_type": "stream",
     "text": [
      "\uD83D\uDD39 Count of TRUE/FALSE for column: IsProvocative\n"
     ]
    },
    {
     "output_type": "display_data",
     "data": {
      "text/html": [
       "<style scoped>\n",
       "  .table-result-container {\n",
       "    max-height: 300px;\n",
       "    overflow: auto;\n",
       "  }\n",
       "  table, th, td {\n",
       "    border: 1px solid black;\n",
       "    border-collapse: collapse;\n",
       "  }\n",
       "  th, td {\n",
       "    padding: 5px;\n",
       "  }\n",
       "  th {\n",
       "    text-align: left;\n",
       "  }\n",
       "</style><div class='table-result-container'><table class='table-result'><thead style='background-color: white'><tr><th>IsProvocative</th><th>count</th></tr></thead><tbody><tr><td>false</td><td>839</td></tr><tr><td>true</td><td>161</td></tr></tbody></table></div>"
      ]
     },
     "metadata": {
      "application/vnd.databricks.v1+output": {
       "addedWidgets": {},
       "aggData": [],
       "aggError": "",
       "aggOverflow": false,
       "aggSchema": [],
       "aggSeriesLimitReached": false,
       "aggType": "",
       "arguments": {},
       "columnCustomDisplayInfos": {},
       "data": [
        [
         false,
         839
        ],
        [
         true,
         161
        ]
       ],
       "datasetInfos": [],
       "dbfsResultPath": null,
       "isJsonSchema": true,
       "metadata": {},
       "overflow": false,
       "plotOptions": {
        "customPlotOptions": {},
        "displayType": "table",
        "pivotAggregation": null,
        "pivotColumns": null,
        "xColumns": null,
        "yColumns": null
       },
       "removedWidgets": [],
       "schema": [
        {
         "metadata": "{}",
         "name": "IsProvocative",
         "type": "\"boolean\""
        },
        {
         "metadata": "{}",
         "name": "count",
         "type": "\"long\""
        }
       ],
       "type": "table"
      }
     },
     "output_type": "display_data"
    },
    {
     "output_type": "stream",
     "name": "stdout",
     "output_type": "stream",
     "text": [
      "\uD83D\uDD39 Count of TRUE/FALSE for column: IsObscene\n"
     ]
    },
    {
     "output_type": "display_data",
     "data": {
      "text/html": [
       "<style scoped>\n",
       "  .table-result-container {\n",
       "    max-height: 300px;\n",
       "    overflow: auto;\n",
       "  }\n",
       "  table, th, td {\n",
       "    border: 1px solid black;\n",
       "    border-collapse: collapse;\n",
       "  }\n",
       "  th, td {\n",
       "    padding: 5px;\n",
       "  }\n",
       "  th {\n",
       "    text-align: left;\n",
       "  }\n",
       "</style><div class='table-result-container'><table class='table-result'><thead style='background-color: white'><tr><th>IsObscene</th><th>count</th></tr></thead><tbody><tr><td>false</td><td>900</td></tr><tr><td>true</td><td>100</td></tr></tbody></table></div>"
      ]
     },
     "metadata": {
      "application/vnd.databricks.v1+output": {
       "addedWidgets": {},
       "aggData": [],
       "aggError": "",
       "aggOverflow": false,
       "aggSchema": [],
       "aggSeriesLimitReached": false,
       "aggType": "",
       "arguments": {},
       "columnCustomDisplayInfos": {},
       "data": [
        [
         false,
         900
        ],
        [
         true,
         100
        ]
       ],
       "datasetInfos": [],
       "dbfsResultPath": null,
       "isJsonSchema": true,
       "metadata": {},
       "overflow": false,
       "plotOptions": {
        "customPlotOptions": {},
        "displayType": "table",
        "pivotAggregation": null,
        "pivotColumns": null,
        "xColumns": null,
        "yColumns": null
       },
       "removedWidgets": [],
       "schema": [
        {
         "metadata": "{}",
         "name": "IsObscene",
         "type": "\"boolean\""
        },
        {
         "metadata": "{}",
         "name": "count",
         "type": "\"long\""
        }
       ],
       "type": "table"
      }
     },
     "output_type": "display_data"
    },
    {
     "output_type": "stream",
     "name": "stdout",
     "output_type": "stream",
     "text": [
      "\uD83D\uDD39 Count of TRUE/FALSE for column: IsHatespeech\n"
     ]
    },
    {
     "output_type": "display_data",
     "data": {
      "text/html": [
       "<style scoped>\n",
       "  .table-result-container {\n",
       "    max-height: 300px;\n",
       "    overflow: auto;\n",
       "  }\n",
       "  table, th, td {\n",
       "    border: 1px solid black;\n",
       "    border-collapse: collapse;\n",
       "  }\n",
       "  th, td {\n",
       "    padding: 5px;\n",
       "  }\n",
       "  th {\n",
       "    text-align: left;\n",
       "  }\n",
       "</style><div class='table-result-container'><table class='table-result'><thead style='background-color: white'><tr><th>IsHatespeech</th><th>count</th></tr></thead><tbody><tr><td>false</td><td>862</td></tr><tr><td>true</td><td>138</td></tr></tbody></table></div>"
      ]
     },
     "metadata": {
      "application/vnd.databricks.v1+output": {
       "addedWidgets": {},
       "aggData": [],
       "aggError": "",
       "aggOverflow": false,
       "aggSchema": [],
       "aggSeriesLimitReached": false,
       "aggType": "",
       "arguments": {},
       "columnCustomDisplayInfos": {},
       "data": [
        [
         false,
         862
        ],
        [
         true,
         138
        ]
       ],
       "datasetInfos": [],
       "dbfsResultPath": null,
       "isJsonSchema": true,
       "metadata": {},
       "overflow": false,
       "plotOptions": {
        "customPlotOptions": {},
        "displayType": "table",
        "pivotAggregation": null,
        "pivotColumns": null,
        "xColumns": null,
        "yColumns": null
       },
       "removedWidgets": [],
       "schema": [
        {
         "metadata": "{}",
         "name": "IsHatespeech",
         "type": "\"boolean\""
        },
        {
         "metadata": "{}",
         "name": "count",
         "type": "\"long\""
        }
       ],
       "type": "table"
      }
     },
     "output_type": "display_data"
    },
    {
     "output_type": "stream",
     "name": "stdout",
     "output_type": "stream",
     "text": [
      "\uD83D\uDD39 Count of TRUE/FALSE for column: IsRacist\n"
     ]
    },
    {
     "output_type": "display_data",
     "data": {
      "text/html": [
       "<style scoped>\n",
       "  .table-result-container {\n",
       "    max-height: 300px;\n",
       "    overflow: auto;\n",
       "  }\n",
       "  table, th, td {\n",
       "    border: 1px solid black;\n",
       "    border-collapse: collapse;\n",
       "  }\n",
       "  th, td {\n",
       "    padding: 5px;\n",
       "  }\n",
       "  th {\n",
       "    text-align: left;\n",
       "  }\n",
       "</style><div class='table-result-container'><table class='table-result'><thead style='background-color: white'><tr><th>IsRacist</th><th>count</th></tr></thead><tbody><tr><td>false</td><td>875</td></tr><tr><td>true</td><td>125</td></tr></tbody></table></div>"
      ]
     },
     "metadata": {
      "application/vnd.databricks.v1+output": {
       "addedWidgets": {},
       "aggData": [],
       "aggError": "",
       "aggOverflow": false,
       "aggSchema": [],
       "aggSeriesLimitReached": false,
       "aggType": "",
       "arguments": {},
       "columnCustomDisplayInfos": {},
       "data": [
        [
         false,
         875
        ],
        [
         true,
         125
        ]
       ],
       "datasetInfos": [],
       "dbfsResultPath": null,
       "isJsonSchema": true,
       "metadata": {},
       "overflow": false,
       "plotOptions": {
        "customPlotOptions": {},
        "displayType": "table",
        "pivotAggregation": null,
        "pivotColumns": null,
        "xColumns": null,
        "yColumns": null
       },
       "removedWidgets": [],
       "schema": [
        {
         "metadata": "{}",
         "name": "IsRacist",
         "type": "\"boolean\""
        },
        {
         "metadata": "{}",
         "name": "count",
         "type": "\"long\""
        }
       ],
       "type": "table"
      }
     },
     "output_type": "display_data"
    },
    {
     "output_type": "stream",
     "name": "stdout",
     "output_type": "stream",
     "text": [
      "\uD83D\uDD39 Count of TRUE/FALSE for column: IsNationalist\n"
     ]
    },
    {
     "output_type": "display_data",
     "data": {
      "text/html": [
       "<style scoped>\n",
       "  .table-result-container {\n",
       "    max-height: 300px;\n",
       "    overflow: auto;\n",
       "  }\n",
       "  table, th, td {\n",
       "    border: 1px solid black;\n",
       "    border-collapse: collapse;\n",
       "  }\n",
       "  th, td {\n",
       "    padding: 5px;\n",
       "  }\n",
       "  th {\n",
       "    text-align: left;\n",
       "  }\n",
       "</style><div class='table-result-container'><table class='table-result'><thead style='background-color: white'><tr><th>IsNationalist</th><th>count</th></tr></thead><tbody><tr><td>false</td><td>992</td></tr><tr><td>true</td><td>8</td></tr></tbody></table></div>"
      ]
     },
     "metadata": {
      "application/vnd.databricks.v1+output": {
       "addedWidgets": {},
       "aggData": [],
       "aggError": "",
       "aggOverflow": false,
       "aggSchema": [],
       "aggSeriesLimitReached": false,
       "aggType": "",
       "arguments": {},
       "columnCustomDisplayInfos": {},
       "data": [
        [
         false,
         992
        ],
        [
         true,
         8
        ]
       ],
       "datasetInfos": [],
       "dbfsResultPath": null,
       "isJsonSchema": true,
       "metadata": {},
       "overflow": false,
       "plotOptions": {
        "customPlotOptions": {},
        "displayType": "table",
        "pivotAggregation": null,
        "pivotColumns": null,
        "xColumns": null,
        "yColumns": null
       },
       "removedWidgets": [],
       "schema": [
        {
         "metadata": "{}",
         "name": "IsNationalist",
         "type": "\"boolean\""
        },
        {
         "metadata": "{}",
         "name": "count",
         "type": "\"long\""
        }
       ],
       "type": "table"
      }
     },
     "output_type": "display_data"
    },
    {
     "output_type": "stream",
     "name": "stdout",
     "output_type": "stream",
     "text": [
      "\uD83D\uDD39 Count of TRUE/FALSE for column: IsSexist\n"
     ]
    },
    {
     "output_type": "display_data",
     "data": {
      "text/html": [
       "<style scoped>\n",
       "  .table-result-container {\n",
       "    max-height: 300px;\n",
       "    overflow: auto;\n",
       "  }\n",
       "  table, th, td {\n",
       "    border: 1px solid black;\n",
       "    border-collapse: collapse;\n",
       "  }\n",
       "  th, td {\n",
       "    padding: 5px;\n",
       "  }\n",
       "  th {\n",
       "    text-align: left;\n",
       "  }\n",
       "</style><div class='table-result-container'><table class='table-result'><thead style='background-color: white'><tr><th>IsSexist</th><th>count</th></tr></thead><tbody><tr><td>false</td><td>999</td></tr><tr><td>true</td><td>1</td></tr></tbody></table></div>"
      ]
     },
     "metadata": {
      "application/vnd.databricks.v1+output": {
       "addedWidgets": {},
       "aggData": [],
       "aggError": "",
       "aggOverflow": false,
       "aggSchema": [],
       "aggSeriesLimitReached": false,
       "aggType": "",
       "arguments": {},
       "columnCustomDisplayInfos": {},
       "data": [
        [
         false,
         999
        ],
        [
         true,
         1
        ]
       ],
       "datasetInfos": [],
       "dbfsResultPath": null,
       "isJsonSchema": true,
       "metadata": {},
       "overflow": false,
       "plotOptions": {
        "customPlotOptions": {},
        "displayType": "table",
        "pivotAggregation": null,
        "pivotColumns": null,
        "xColumns": null,
        "yColumns": null
       },
       "removedWidgets": [],
       "schema": [
        {
         "metadata": "{}",
         "name": "IsSexist",
         "type": "\"boolean\""
        },
        {
         "metadata": "{}",
         "name": "count",
         "type": "\"long\""
        }
       ],
       "type": "table"
      }
     },
     "output_type": "display_data"
    },
    {
     "output_type": "stream",
     "name": "stdout",
     "output_type": "stream",
     "text": [
      "\uD83D\uDD39 Count of TRUE/FALSE for column: IsHomophobic\n"
     ]
    },
    {
     "output_type": "display_data",
     "data": {
      "text/html": [
       "<style scoped>\n",
       "  .table-result-container {\n",
       "    max-height: 300px;\n",
       "    overflow: auto;\n",
       "  }\n",
       "  table, th, td {\n",
       "    border: 1px solid black;\n",
       "    border-collapse: collapse;\n",
       "  }\n",
       "  th, td {\n",
       "    padding: 5px;\n",
       "  }\n",
       "  th {\n",
       "    text-align: left;\n",
       "  }\n",
       "</style><div class='table-result-container'><table class='table-result'><thead style='background-color: white'><tr><th>IsHomophobic</th><th>count</th></tr></thead><tbody><tr><td>false</td><td>1000</td></tr></tbody></table></div>"
      ]
     },
     "metadata": {
      "application/vnd.databricks.v1+output": {
       "addedWidgets": {},
       "aggData": [],
       "aggError": "",
       "aggOverflow": false,
       "aggSchema": [],
       "aggSeriesLimitReached": false,
       "aggType": "",
       "arguments": {},
       "columnCustomDisplayInfos": {},
       "data": [
        [
         false,
         1000
        ]
       ],
       "datasetInfos": [],
       "dbfsResultPath": null,
       "isJsonSchema": true,
       "metadata": {},
       "overflow": false,
       "plotOptions": {
        "customPlotOptions": {},
        "displayType": "table",
        "pivotAggregation": null,
        "pivotColumns": null,
        "xColumns": null,
        "yColumns": null
       },
       "removedWidgets": [],
       "schema": [
        {
         "metadata": "{}",
         "name": "IsHomophobic",
         "type": "\"boolean\""
        },
        {
         "metadata": "{}",
         "name": "count",
         "type": "\"long\""
        }
       ],
       "type": "table"
      }
     },
     "output_type": "display_data"
    },
    {
     "output_type": "stream",
     "name": "stdout",
     "output_type": "stream",
     "text": [
      "\uD83D\uDD39 Count of TRUE/FALSE for column: IsReligiousHate\n"
     ]
    },
    {
     "output_type": "display_data",
     "data": {
      "text/html": [
       "<style scoped>\n",
       "  .table-result-container {\n",
       "    max-height: 300px;\n",
       "    overflow: auto;\n",
       "  }\n",
       "  table, th, td {\n",
       "    border: 1px solid black;\n",
       "    border-collapse: collapse;\n",
       "  }\n",
       "  th, td {\n",
       "    padding: 5px;\n",
       "  }\n",
       "  th {\n",
       "    text-align: left;\n",
       "  }\n",
       "</style><div class='table-result-container'><table class='table-result'><thead style='background-color: white'><tr><th>IsReligiousHate</th><th>count</th></tr></thead><tbody><tr><td>false</td><td>988</td></tr><tr><td>true</td><td>12</td></tr></tbody></table></div>"
      ]
     },
     "metadata": {
      "application/vnd.databricks.v1+output": {
       "addedWidgets": {},
       "aggData": [],
       "aggError": "",
       "aggOverflow": false,
       "aggSchema": [],
       "aggSeriesLimitReached": false,
       "aggType": "",
       "arguments": {},
       "columnCustomDisplayInfos": {},
       "data": [
        [
         false,
         988
        ],
        [
         true,
         12
        ]
       ],
       "datasetInfos": [],
       "dbfsResultPath": null,
       "isJsonSchema": true,
       "metadata": {},
       "overflow": false,
       "plotOptions": {
        "customPlotOptions": {},
        "displayType": "table",
        "pivotAggregation": null,
        "pivotColumns": null,
        "xColumns": null,
        "yColumns": null
       },
       "removedWidgets": [],
       "schema": [
        {
         "metadata": "{}",
         "name": "IsReligiousHate",
         "type": "\"boolean\""
        },
        {
         "metadata": "{}",
         "name": "count",
         "type": "\"long\""
        }
       ],
       "type": "table"
      }
     },
     "output_type": "display_data"
    },
    {
     "output_type": "stream",
     "name": "stdout",
     "output_type": "stream",
     "text": [
      "\uD83D\uDD39 Count of TRUE/FALSE for column: IsRadicalism\n"
     ]
    },
    {
     "output_type": "display_data",
     "data": {
      "text/html": [
       "<style scoped>\n",
       "  .table-result-container {\n",
       "    max-height: 300px;\n",
       "    overflow: auto;\n",
       "  }\n",
       "  table, th, td {\n",
       "    border: 1px solid black;\n",
       "    border-collapse: collapse;\n",
       "  }\n",
       "  th, td {\n",
       "    padding: 5px;\n",
       "  }\n",
       "  th {\n",
       "    text-align: left;\n",
       "  }\n",
       "</style><div class='table-result-container'><table class='table-result'><thead style='background-color: white'><tr><th>IsRadicalism</th><th>count</th></tr></thead><tbody><tr><td>false</td><td>1000</td></tr></tbody></table></div>"
      ]
     },
     "metadata": {
      "application/vnd.databricks.v1+output": {
       "addedWidgets": {},
       "aggData": [],
       "aggError": "",
       "aggOverflow": false,
       "aggSchema": [],
       "aggSeriesLimitReached": false,
       "aggType": "",
       "arguments": {},
       "columnCustomDisplayInfos": {},
       "data": [
        [
         false,
         1000
        ]
       ],
       "datasetInfos": [],
       "dbfsResultPath": null,
       "isJsonSchema": true,
       "metadata": {},
       "overflow": false,
       "plotOptions": {
        "customPlotOptions": {},
        "displayType": "table",
        "pivotAggregation": null,
        "pivotColumns": null,
        "xColumns": null,
        "yColumns": null
       },
       "removedWidgets": [],
       "schema": [
        {
         "metadata": "{}",
         "name": "IsRadicalism",
         "type": "\"boolean\""
        },
        {
         "metadata": "{}",
         "name": "count",
         "type": "\"long\""
        }
       ],
       "type": "table"
      }
     },
     "output_type": "display_data"
    }
   ],
   "source": [
    "# Show schema of the Spark DataFrame\n",
    "spark_df.printSchema()\n",
    "\n",
    "# Show summary statistics for all columns\n",
    "display(\n",
    "    spark_df.describe()\n",
    ")\n",
    "\n",
    "# Count TRUE/FALSE values for each label column\n",
    "label_columns = [\n",
    "    \"IsToxic\", \"IsAbusive\", \"IsThreat\", \"IsProvocative\", \"IsObscene\",\n",
    "    \"IsHatespeech\", \"IsRacist\", \"IsNationalist\", \"IsSexist\",\n",
    "    \"IsHomophobic\", \"IsReligiousHate\", \"IsRadicalism\"\n",
    "]\n",
    "\n",
    "# Loop through each label column and display count of TRUE/FALSE\n",
    "for col in label_columns:\n",
    "    print(f\"\uD83D\uDD39 Count of TRUE/FALSE for column: {col}\")\n",
    "    display(\n",
    "        spark_df.groupBy(col)\n",
    "        .count()\n",
    "        .orderBy(\"count\", ascending=False)\n",
    "    )\n"
   ]
  },
  {
   "cell_type": "code",
   "execution_count": 0,
   "metadata": {
    "application/vnd.databricks.v1+cell": {
     "cellMetadata": {
      "byteLimit": 2048000,
      "rowLimit": 10000
     },
     "inputWidgets": {},
     "nuid": "a42591fe-27ac-4e3c-a815-5b01823a35e0",
     "showTitle": false,
     "tableResultSettingsMap": {},
     "title": ""
    }
   },
   "outputs": [
    {
     "output_type": "display_data",
     "data": {
      "text/html": [
       "<style scoped>\n",
       "  .table-result-container {\n",
       "    max-height: 300px;\n",
       "    overflow: auto;\n",
       "  }\n",
       "  table, th, td {\n",
       "    border: 1px solid black;\n",
       "    border-collapse: collapse;\n",
       "  }\n",
       "  th, td {\n",
       "    padding: 5px;\n",
       "  }\n",
       "  th {\n",
       "    text-align: left;\n",
       "  }\n",
       "</style><div class='table-result-container'><table class='table-result'><thead style='background-color: white'><tr><th>CommentId</th><th>VideoId</th><th>Text</th></tr></thead><tbody><tr><td>Ugg2KwwX0V8-aXgCoAEC</td><td>04kJtp6pVXI</td><td>If only people would just take a step back and not make this case about them, because it wasn't about anyone except the two people in that situation.  To lump yourself into this mess and take matters into your own hands makes these kinds of protests selfish and without rational thought and investigation.  The guy in this video is heavily emotional and hyped up and wants to be heard, and when he gets heard he just presses more and more.  He was never out to have a reasonable discussion.  Kudos to the Smerconish for keeping level the whole time and letting Masri make himself out to be a fool.  How dare he and those that tore that city down in protest make this about themselves and to dishonor the entire incident with their own hate.  By the way, since when did police brutality become an epidemic?  I wish everyone would just stop pretending like they were there and they knew EXACTLY what was going on, because there's no measurable amount of people that honestly witnessed this incident, so none of us have a clue on which way this whole issue should have swung.  The grand jury were the most informed, we have to trust the majority rule was the right course of action and let it be.  Also, thank you to the 99.999% of police officers in America that actually serve & protect, even if you're a bit of a jerk when you pull me over, I respect your job and know that someone has to do it and that many people are going to pout about being held accountable to their actions.  People hate police until they need an officer or two around in an emergency.</td></tr><tr><td>Ugg2s5AzSPioEXgCoAEC</td><td>04kJtp6pVXI</td><td>Law enforcement is not trained to shoot to apprehend.  They are trained to shoot to kill.  And I thank Wilson for killing that punk bitch.</td></tr><tr><td>Ugg3dWTOxryFfHgCoAEC</td><td>04kJtp6pVXI</td><td>\n",
       "Dont you reckon them 'black lives matter' banners being held by white cunts is  kinda patronizing and ironically racist. could they have not come up with somethin better.. or is it just what white folks do to give them selves pride. 'ooo look at me im being nice for the black people' why does it always have to be about race actually the whole world is pussyfootin around for fear of being racist. its fuckin daft man.</td></tr><tr><td>Ugg7Gd006w1MPngCoAEC</td><td>04kJtp6pVXI</td><td>There are a very large number of people who do not like police officers. They are called Criminals and its the reason we have police officers. The fact that Criminals do not like police officers is a testament to the good work that police officers do in protecting the public. When our children or our family are in danger, we do not hessitate to call for help, and we call the Police. Its about time people stopped complaining and started to give the Police some respect for the hard work and dedication that often requires them to put their lives on the line, to serve the public.</td></tr><tr><td>Ugg8FfTbbNF8IngCoAEC</td><td>04kJtp6pVXI</td><td>The Arab dude is absolutely right, he should have not been shot 6 extra time. Shoot him once if hes attacking you and that would stop his attack. Shoot him twice if he's still attacking you, but six times? That is shoot to kill in my opinion. </td></tr></tbody></table></div>"
      ]
     },
     "metadata": {
      "application/vnd.databricks.v1+output": {
       "addedWidgets": {},
       "aggData": [],
       "aggError": "",
       "aggOverflow": false,
       "aggSchema": [],
       "aggSeriesLimitReached": false,
       "aggType": "",
       "arguments": {},
       "columnCustomDisplayInfos": {},
       "data": [
        [
         "Ugg2KwwX0V8-aXgCoAEC",
         "04kJtp6pVXI",
         "If only people would just take a step back and not make this case about them, because it wasn't about anyone except the two people in that situation.  To lump yourself into this mess and take matters into your own hands makes these kinds of protests selfish and without rational thought and investigation.  The guy in this video is heavily emotional and hyped up and wants to be heard, and when he gets heard he just presses more and more.  He was never out to have a reasonable discussion.  Kudos to the Smerconish for keeping level the whole time and letting Masri make himself out to be a fool.  How dare he and those that tore that city down in protest make this about themselves and to dishonor the entire incident with their own hate.  By the way, since when did police brutality become an epidemic?  I wish everyone would just stop pretending like they were there and they knew EXACTLY what was going on, because there's no measurable amount of people that honestly witnessed this incident, so none of us have a clue on which way this whole issue should have swung.  The grand jury were the most informed, we have to trust the majority rule was the right course of action and let it be.  Also, thank you to the 99.999% of police officers in America that actually serve & protect, even if you're a bit of a jerk when you pull me over, I respect your job and know that someone has to do it and that many people are going to pout about being held accountable to their actions.  People hate police until they need an officer or two around in an emergency."
        ],
        [
         "Ugg2s5AzSPioEXgCoAEC",
         "04kJtp6pVXI",
         "Law enforcement is not trained to shoot to apprehend.  They are trained to shoot to kill.  And I thank Wilson for killing that punk bitch."
        ],
        [
         "Ugg3dWTOxryFfHgCoAEC",
         "04kJtp6pVXI",
         "\nDont you reckon them 'black lives matter' banners being held by white cunts is  kinda patronizing and ironically racist. could they have not come up with somethin better.. or is it just what white folks do to give them selves pride. 'ooo look at me im being nice for the black people' why does it always have to be about race actually the whole world is pussyfootin around for fear of being racist. its fuckin daft man."
        ],
        [
         "Ugg7Gd006w1MPngCoAEC",
         "04kJtp6pVXI",
         "There are a very large number of people who do not like police officers. They are called Criminals and its the reason we have police officers. The fact that Criminals do not like police officers is a testament to the good work that police officers do in protecting the public. When our children or our family are in danger, we do not hessitate to call for help, and we call the Police. Its about time people stopped complaining and started to give the Police some respect for the hard work and dedication that often requires them to put their lives on the line, to serve the public."
        ],
        [
         "Ugg8FfTbbNF8IngCoAEC",
         "04kJtp6pVXI",
         "The Arab dude is absolutely right, he should have not been shot 6 extra time. Shoot him once if hes attacking you and that would stop his attack. Shoot him twice if he's still attacking you, but six times? That is shoot to kill in my opinion. "
        ]
       ],
       "datasetInfos": [],
       "dbfsResultPath": null,
       "isJsonSchema": true,
       "metadata": {},
       "overflow": false,
       "plotOptions": {
        "customPlotOptions": {},
        "displayType": "table",
        "pivotAggregation": null,
        "pivotColumns": null,
        "xColumns": null,
        "yColumns": null
       },
       "removedWidgets": [],
       "schema": [
        {
         "metadata": "{}",
         "name": "CommentId",
         "type": "\"string\""
        },
        {
         "metadata": "{}",
         "name": "VideoId",
         "type": "\"string\""
        },
        {
         "metadata": "{}",
         "name": "Text",
         "type": "\"string\""
        }
       ],
       "type": "table"
      }
     },
     "output_type": "display_data"
    },
    {
     "output_type": "stream",
     "name": "stdout",
     "output_type": "stream",
     "text": [
      "Total rows: 1000\nAfter dropping null/empty Text: 1000\n"
     ]
    }
   ],
   "source": [
    "# 1. Peek and drop nulls\n",
    "display(\n",
    "    spark_df.select(\"CommentId\", \"VideoId\", \"Text\").limit(5)\n",
    ")\n",
    "print(\"Total rows:\", spark_df.count())\n",
    "\n",
    "# Drop rows where Text is null or empty and trim whitespace\n",
    "from pyspark.sql.functions import col, trim, length\n",
    "\n",
    "spark_df = spark_df.withColumn(\"Text\", trim(col(\"Text\")))\n",
    "spark_df = spark_df.filter(\n",
    "    (col(\"Text\").isNotNull()) &\n",
    "    (length(col(\"Text\")) > 0)\n",
    ")\n",
    "print(\"After dropping null/empty Text:\", spark_df.count())"
   ]
  },
  {
   "cell_type": "code",
   "execution_count": 0,
   "metadata": {
    "application/vnd.databricks.v1+cell": {
     "cellMetadata": {
      "byteLimit": 2048000,
      "rowLimit": 10000
     },
     "inputWidgets": {},
     "nuid": "11c1198a-b7b2-4fc8-b95d-a3b044c83c43",
     "showTitle": false,
     "tableResultSettingsMap": {},
     "title": ""
    }
   },
   "outputs": [
    {
     "output_type": "display_data",
     "data": {
      "text/html": [
       "<style scoped>\n",
       "  .table-result-container {\n",
       "    max-height: 300px;\n",
       "    overflow: auto;\n",
       "  }\n",
       "  table, th, td {\n",
       "    border: 1px solid black;\n",
       "    border-collapse: collapse;\n",
       "  }\n",
       "  th, td {\n",
       "    padding: 5px;\n",
       "  }\n",
       "  th {\n",
       "    text-align: left;\n",
       "  }\n",
       "</style><div class='table-result-container'><table class='table-result'><thead style='background-color: white'><tr><th>ToxicCount</th><th>count</th></tr></thead><tbody><tr><td>0</td><td>538</td></tr><tr><td>2</td><td>100</td></tr><tr><td>3</td><td>294</td></tr><tr><td>4</td><td>47</td></tr><tr><td>5</td><td>15</td></tr><tr><td>6</td><td>6</td></tr></tbody></table></div>"
      ]
     },
     "metadata": {
      "application/vnd.databricks.v1+output": {
       "addedWidgets": {},
       "aggData": [],
       "aggError": "",
       "aggOverflow": false,
       "aggSchema": [],
       "aggSeriesLimitReached": false,
       "aggType": "",
       "arguments": {},
       "columnCustomDisplayInfos": {},
       "data": [
        [
         0,
         538
        ],
        [
         2,
         100
        ],
        [
         3,
         294
        ],
        [
         4,
         47
        ],
        [
         5,
         15
        ],
        [
         6,
         6
        ]
       ],
       "datasetInfos": [],
       "dbfsResultPath": null,
       "isJsonSchema": true,
       "metadata": {},
       "overflow": false,
       "plotOptions": {
        "customPlotOptions": {},
        "displayType": "table",
        "pivotAggregation": null,
        "pivotColumns": null,
        "xColumns": null,
        "yColumns": null
       },
       "removedWidgets": [],
       "schema": [
        {
         "metadata": "{}",
         "name": "ToxicCount",
         "type": "\"integer\""
        },
        {
         "metadata": "{}",
         "name": "count",
         "type": "\"long\""
        }
       ],
       "type": "table"
      }
     },
     "output_type": "display_data"
    },
    {
     "output_type": "display_data",
     "data": {
      "text/html": [
       "<style scoped>\n",
       "  .table-result-container {\n",
       "    max-height: 300px;\n",
       "    overflow: auto;\n",
       "  }\n",
       "  table, th, td {\n",
       "    border: 1px solid black;\n",
       "    border-collapse: collapse;\n",
       "  }\n",
       "  th, td {\n",
       "    padding: 5px;\n",
       "  }\n",
       "  th {\n",
       "    text-align: left;\n",
       "  }\n",
       "</style><div class='table-result-container'><table class='table-result'><thead style='background-color: white'><tr><th>summary</th><th>TextLength</th></tr></thead><tbody><tr><td>count</td><td>1000</td></tr><tr><td>mean</td><td>185.499</td></tr><tr><td>stddev</td><td>270.77493063808924</td></tr><tr><td>min</td><td>3</td></tr><tr><td>max</td><td>4421</td></tr></tbody></table></div>"
      ]
     },
     "metadata": {
      "application/vnd.databricks.v1+output": {
       "addedWidgets": {},
       "aggData": [],
       "aggError": "",
       "aggOverflow": false,
       "aggSchema": [],
       "aggSeriesLimitReached": false,
       "aggType": "",
       "arguments": {},
       "columnCustomDisplayInfos": {},
       "data": [
        [
         "count",
         "1000"
        ],
        [
         "mean",
         "185.499"
        ],
        [
         "stddev",
         "270.77493063808924"
        ],
        [
         "min",
         "3"
        ],
        [
         "max",
         "4421"
        ]
       ],
       "datasetInfos": [],
       "dbfsResultPath": null,
       "isJsonSchema": true,
       "metadata": {},
       "overflow": false,
       "plotOptions": {
        "customPlotOptions": {},
        "displayType": "table",
        "pivotAggregation": null,
        "pivotColumns": null,
        "xColumns": null,
        "yColumns": null
       },
       "removedWidgets": [],
       "schema": [
        {
         "metadata": "{}",
         "name": "summary",
         "type": "\"string\""
        },
        {
         "metadata": "{}",
         "name": "TextLength",
         "type": "\"string\""
        }
       ],
       "type": "table"
      }
     },
     "output_type": "display_data"
    }
   ],
   "source": [
    "from pyspark.sql.functions import col, length\n",
    "from pyspark.sql import functions as F\n",
    "\n",
    "# Fix: Use F.expr to sum columns row-wise\n",
    "spark_df = spark_df.withColumn(\"ToxicCount\", sum([col(c).cast(\"int\") for c in label_columns]))\n",
    "display(spark_df.groupBy(\"ToxicCount\").count().orderBy(\"ToxicCount\"))\n",
    "\n",
    "# ==============================================\n",
    "# \uD83D\uDCC8 Step 6: Text Length Insights\n",
    "# ==============================================\n",
    "spark_df = spark_df.withColumn(\"TextLength\", length(col(\"Text\")))\n",
    "display(spark_df.select(\"TextLength\").describe())"
   ]
  },
  {
   "cell_type": "code",
   "execution_count": 0,
   "metadata": {
    "application/vnd.databricks.v1+cell": {
     "cellMetadata": {
      "byteLimit": 2048000,
      "rowLimit": 10000
     },
     "inputWidgets": {},
     "nuid": "14b744d5-b091-4406-8e73-0aa0ec1896be",
     "showTitle": false,
     "tableResultSettingsMap": {},
     "title": ""
    }
   },
   "outputs": [],
   "source": [
    "from pyspark.ml.feature import Tokenizer, StopWordsRemover, HashingTF, IDF\n",
    "from pyspark.ml.classification import LogisticRegression\n",
    "from pyspark.ml import Pipeline\n",
    "from pyspark.ml.evaluation import MulticlassClassificationEvaluator\n",
    "\n",
    "# Preprocessing pipeline\n",
    "tokenizer = Tokenizer(inputCol=\"Text\", outputCol=\"words\")\n",
    "remover = StopWordsRemover(inputCol=\"words\", outputCol=\"filtered_words\")\n",
    "hashingTF = HashingTF(inputCol=\"filtered_words\", outputCol=\"rawFeatures\", numFeatures=5000)\n",
    "idf = IDF(inputCol=\"rawFeatures\", outputCol=\"features\")\n"
   ]
  },
  {
   "cell_type": "code",
   "execution_count": 0,
   "metadata": {
    "application/vnd.databricks.v1+cell": {
     "cellMetadata": {
      "byteLimit": 2048000,
      "rowLimit": 10000
     },
     "inputWidgets": {},
     "nuid": "2da98289-c67f-4eb5-b030-04d54232dd09",
     "showTitle": false,
     "tableResultSettingsMap": {},
     "title": ""
    }
   },
   "outputs": [
    {
     "output_type": "display_data",
     "data": {
      "text/html": [
       "<style scoped>\n",
       "  .table-result-container {\n",
       "    max-height: 300px;\n",
       "    overflow: auto;\n",
       "  }\n",
       "  table, th, td {\n",
       "    border: 1px solid black;\n",
       "    border-collapse: collapse;\n",
       "  }\n",
       "  th, td {\n",
       "    padding: 5px;\n",
       "  }\n",
       "  th {\n",
       "    text-align: left;\n",
       "  }\n",
       "</style><div class='table-result-container'><table class='table-result'><thead style='background-color: white'><tr><th>Text</th><th>IsToxic</th><th>prediction</th><th>probability</th></tr></thead><tbody><tr><td>I agree with the protestor.</td><td>0.0</td><td>0.0</td><td>{\"type\":\"1\",\"size\":null,\"indices\":null,\"values\":[\"0.6826595498327884\",\"0.3173404501672116\"]}</td></tr><tr><td>Masri is about as close as you can get to ISIS in America.  </td><td>1.0</td><td>1.0</td><td>{\"type\":\"1\",\"size\":null,\"indices\":null,\"values\":[\"1.2421089549100717E-7\",\"0.9999998757891045\"]}</td></tr><tr><td>\"I can believe whatever I wanna believe, I don't care what any of them have to say.\"\n",
       "Bassem Masri, you are an idiot.</td><td>1.0</td><td>1.0</td><td>{\"type\":\"1\",\"size\":null,\"indices\":null,\"values\":[\"2.9194587846264705E-9\",\"0.9999999970805412\"]}</td></tr><tr><td>the guy on the right is so on point. don't judge on his speaking abilities but judge him on his messege! you racist fucks can suck my dick. and like always the media focusing on the thing that don't matter. CNN is shit.</td><td>1.0</td><td>1.0</td><td>{\"type\":\"1\",\"size\":null,\"indices\":null,\"values\":[\"5.858342689175033E-12\",\"0.9999999999941417\"]}</td></tr><tr><td>I think ,he kill him</td><td>1.0</td><td>1.0</td><td>{\"type\":\"1\",\"size\":null,\"indices\":null,\"values\":[\"0.00249246408408815\",\"0.9975075359159119\"]}</td></tr><tr><td>You actually CAN shout \"fire\" in a crowded theater. Christopher Hitchens demonstrated this in his talk about \"free speech.\" Look it up. The interviewee is correct. Cops serve the public, not the other way around. And it is consistent with serving that public that the police department represent that public's race and ethnicity in its ranks. Hire a bunch of big, tough, black guys to the police department and you will have fewer blacks being shot to death by a puny white guy who felt humiliated when he got bitch slapped by a teenager.</td><td>1.0</td><td>1.0</td><td>{\"type\":\"1\",\"size\":null,\"indices\":null,\"values\":[\"7.702883334371769E-17\",\"0.9999999999999999\"]}</td></tr><tr><td>LEGALIZE MARIJUANA! Then problems will stop</td><td>0.0</td><td>0.0</td><td>{\"type\":\"1\",\"size\":null,\"indices\":null,\"values\":[\"0.9999414665533783\",\"5.853344662165583E-5\"]}</td></tr><tr><td>The legal system is inherently racist, same as this CNN reporter</td><td>1.0</td><td>1.0</td><td>{\"type\":\"1\",\"size\":null,\"indices\":null,\"values\":[\"4.173242599261176E-5\",\"0.9999582675740074\"]}</td></tr><tr><td>\"There is blood on the street but you are worried about words\" .... we are ALL getting very tired with the way mainstream media is treating us like idiots who will follow their condescending, irrelevant, distracting, disparaging narrative... Step up CNN</td><td>0.0</td><td>1.0</td><td>{\"type\":\"1\",\"size\":null,\"indices\":null,\"values\":[\"1.0469659127604443E-9\",\"0.999999998953034\"]}</td></tr><tr><td>Hers my statement, I think ali sheep butt fucker masri should take an ak and go fight in syria..</td><td>1.0</td><td>1.0</td><td>{\"type\":\"1\",\"size\":null,\"indices\":null,\"values\":[\"6.223469486015959E-6\",\"0.999993776530514\"]}</td></tr></tbody></table></div>"
      ]
     },
     "metadata": {
      "application/vnd.databricks.v1+output": {
       "addedWidgets": {},
       "aggData": [],
       "aggError": "",
       "aggOverflow": false,
       "aggSchema": [],
       "aggSeriesLimitReached": false,
       "aggType": "",
       "arguments": {},
       "columnCustomDisplayInfos": {},
       "data": [
        [
         "I agree with the protestor.",
         0.0,
         0.0,
         "{\"type\":\"1\",\"size\":null,\"indices\":null,\"values\":[\"0.6826595498327884\",\"0.3173404501672116\"]}"
        ],
        [
         "Masri is about as close as you can get to ISIS in America.  ",
         1.0,
         1.0,
         "{\"type\":\"1\",\"size\":null,\"indices\":null,\"values\":[\"1.2421089549100717E-7\",\"0.9999998757891045\"]}"
        ],
        [
         "\"I can believe whatever I wanna believe, I don't care what any of them have to say.\"\nBassem Masri, you are an idiot.",
         1.0,
         1.0,
         "{\"type\":\"1\",\"size\":null,\"indices\":null,\"values\":[\"2.9194587846264705E-9\",\"0.9999999970805412\"]}"
        ],
        [
         "the guy on the right is so on point. don't judge on his speaking abilities but judge him on his messege! you racist fucks can suck my dick. and like always the media focusing on the thing that don't matter. CNN is shit.",
         1.0,
         1.0,
         "{\"type\":\"1\",\"size\":null,\"indices\":null,\"values\":[\"5.858342689175033E-12\",\"0.9999999999941417\"]}"
        ],
        [
         "I think ,he kill him",
         1.0,
         1.0,
         "{\"type\":\"1\",\"size\":null,\"indices\":null,\"values\":[\"0.00249246408408815\",\"0.9975075359159119\"]}"
        ],
        [
         "You actually CAN shout \"fire\" in a crowded theater. Christopher Hitchens demonstrated this in his talk about \"free speech.\" Look it up. The interviewee is correct. Cops serve the public, not the other way around. And it is consistent with serving that public that the police department represent that public's race and ethnicity in its ranks. Hire a bunch of big, tough, black guys to the police department and you will have fewer blacks being shot to death by a puny white guy who felt humiliated when he got bitch slapped by a teenager.",
         1.0,
         1.0,
         "{\"type\":\"1\",\"size\":null,\"indices\":null,\"values\":[\"7.702883334371769E-17\",\"0.9999999999999999\"]}"
        ],
        [
         "LEGALIZE MARIJUANA! Then problems will stop",
         0.0,
         0.0,
         "{\"type\":\"1\",\"size\":null,\"indices\":null,\"values\":[\"0.9999414665533783\",\"5.853344662165583E-5\"]}"
        ],
        [
         "The legal system is inherently racist, same as this CNN reporter",
         1.0,
         1.0,
         "{\"type\":\"1\",\"size\":null,\"indices\":null,\"values\":[\"4.173242599261176E-5\",\"0.9999582675740074\"]}"
        ],
        [
         "\"There is blood on the street but you are worried about words\" .... we are ALL getting very tired with the way mainstream media is treating us like idiots who will follow their condescending, irrelevant, distracting, disparaging narrative... Step up CNN",
         0.0,
         1.0,
         "{\"type\":\"1\",\"size\":null,\"indices\":null,\"values\":[\"1.0469659127604443E-9\",\"0.999999998953034\"]}"
        ],
        [
         "Hers my statement, I think ali sheep butt fucker masri should take an ak and go fight in syria..",
         1.0,
         1.0,
         "{\"type\":\"1\",\"size\":null,\"indices\":null,\"values\":[\"6.223469486015959E-6\",\"0.999993776530514\"]}"
        ]
       ],
       "datasetInfos": [],
       "dbfsResultPath": null,
       "isJsonSchema": true,
       "metadata": {},
       "overflow": false,
       "plotOptions": {
        "customPlotOptions": {},
        "displayType": "table",
        "pivotAggregation": null,
        "pivotColumns": null,
        "xColumns": null,
        "yColumns": null
       },
       "removedWidgets": [],
       "schema": [
        {
         "metadata": "{}",
         "name": "Text",
         "type": "\"string\""
        },
        {
         "metadata": "{}",
         "name": "IsToxic",
         "type": "\"double\""
        },
        {
         "metadata": "{\"ml_attr\": {\"num_vals\": 2, \"type\": \"nominal\"}}",
         "name": "prediction",
         "type": "\"double\""
        },
        {
         "metadata": "{\"ml_attr\": {\"num_attrs\": 2}}",
         "name": "probability",
         "type": "{\"class\":\"org.apache.spark.ml.linalg.VectorUDT\",\"pyClass\":\"pyspark.ml.linalg.VectorUDT\",\"sqlType\":{\"fields\":[{\"metadata\":{},\"name\":\"type\",\"nullable\":false,\"type\":\"byte\"},{\"metadata\":{},\"name\":\"size\",\"nullable\":true,\"type\":\"integer\"},{\"metadata\":{},\"name\":\"indices\",\"nullable\":true,\"type\":{\"containsNull\":false,\"elementType\":\"integer\",\"type\":\"array\"}},{\"metadata\":{},\"name\":\"values\",\"nullable\":true,\"type\":{\"containsNull\":false,\"elementType\":\"double\",\"type\":\"array\"}}],\"type\":\"struct\"},\"type\":\"udt\"}"
        }
       ],
       "type": "table"
      }
     },
     "output_type": "display_data"
    }
   ],
   "source": [
    "from pyspark.sql.functions import col\n",
    "\n",
    "# Ensure label column is numeric and of type Double\n",
    "train_df = train_df.withColumn(\"IsToxic\", col(\"IsToxic\").cast(\"double\"))\n",
    "test_df = test_df.withColumn(\"IsToxic\", col(\"IsToxic\").cast(\"double\"))\n",
    "\n",
    "lr = LogisticRegression(featuresCol=\"features\", labelCol=\"IsToxic\")\n",
    "pipeline = Pipeline(stages=[tokenizer, remover, hashingTF, idf, lr])\n",
    "lr_model = pipeline.fit(train_df)\n",
    "\n",
    "predictions = lr_model.transform(test_df)\n",
    "display(\n",
    "    predictions.select(\n",
    "        \"Text\",\n",
    "        \"IsToxic\",\n",
    "        \"prediction\",\n",
    "        \"probability\"\n",
    "    ).limit(10)\n",
    ")"
   ]
  },
  {
   "cell_type": "code",
   "execution_count": 0,
   "metadata": {
    "application/vnd.databricks.v1+cell": {
     "cellMetadata": {
      "byteLimit": 2048000,
      "rowLimit": 10000
     },
     "inputWidgets": {},
     "nuid": "cfe10342-9054-4e66-9a35-000e0c8b5271",
     "showTitle": false,
     "tableResultSettingsMap": {},
     "title": ""
    }
   },
   "outputs": [
    {
     "output_type": "stream",
     "name": "stdout",
     "output_type": "stream",
     "text": [
      "✅ Logistic Regression Accuracy: 0.6169\n"
     ]
    }
   ],
   "source": [
    "evaluator = MulticlassClassificationEvaluator(labelCol=\"IsToxic\", predictionCol=\"prediction\", metricName=\"accuracy\")\n",
    "accuracy = evaluator.evaluate(predictions)\n",
    "print(f\"✅ Logistic Regression Accuracy: {accuracy:.4f}\")\n"
   ]
  },
  {
   "cell_type": "code",
   "execution_count": 0,
   "metadata": {
    "application/vnd.databricks.v1+cell": {
     "cellMetadata": {
      "byteLimit": 2048000,
      "rowLimit": 10000
     },
     "inputWidgets": {},
     "nuid": "7c1d9d95-9a6f-400e-a4a2-1ddaec7db95e",
     "showTitle": false,
     "tableResultSettingsMap": {},
     "title": ""
    }
   },
   "outputs": [
    {
     "output_type": "stream",
     "name": "stdout",
     "output_type": "stream",
     "text": [
      "Average Toxic Comment Length:\n"
     ]
    },
    {
     "output_type": "display_data",
     "data": {
      "text/html": [
       "<style scoped>\n",
       "  .table-result-container {\n",
       "    max-height: 300px;\n",
       "    overflow: auto;\n",
       "  }\n",
       "  table, th, td {\n",
       "    border: 1px solid black;\n",
       "    border-collapse: collapse;\n",
       "  }\n",
       "  th, td {\n",
       "    padding: 5px;\n",
       "  }\n",
       "  th {\n",
       "    text-align: left;\n",
       "  }\n",
       "</style><div class='table-result-container'><table class='table-result'><thead style='background-color: white'><tr><th>IsToxic</th><th>avg_TextLength</th></tr></thead><tbody><tr><td>false</td><td>182.20817843866172</td></tr><tr><td>true</td><td>189.33116883116884</td></tr></tbody></table></div>"
      ]
     },
     "metadata": {
      "application/vnd.databricks.v1+output": {
       "addedWidgets": {},
       "aggData": [],
       "aggError": "",
       "aggOverflow": false,
       "aggSchema": [],
       "aggSeriesLimitReached": false,
       "aggType": "",
       "arguments": {},
       "columnCustomDisplayInfos": {},
       "data": [
        [
         false,
         182.20817843866172
        ],
        [
         true,
         189.33116883116884
        ]
       ],
       "datasetInfos": [],
       "dbfsResultPath": null,
       "isJsonSchema": true,
       "metadata": {},
       "overflow": false,
       "plotOptions": {
        "customPlotOptions": {},
        "displayType": "table",
        "pivotAggregation": null,
        "pivotColumns": null,
        "xColumns": null,
        "yColumns": null
       },
       "removedWidgets": [],
       "schema": [
        {
         "metadata": "{}",
         "name": "IsToxic",
         "type": "\"boolean\""
        },
        {
         "metadata": "{}",
         "name": "avg_TextLength",
         "type": "\"double\""
        }
       ],
       "type": "table"
      }
     },
     "output_type": "display_data"
    },
    {
     "output_type": "stream",
     "name": "stdout",
     "output_type": "stream",
     "text": [
      "Top Toxic Categories by Frequency:\n"
     ]
    },
    {
     "output_type": "display_data",
     "data": {
      "text/html": [
       "<style scoped>\n",
       "  .table-result-container {\n",
       "    max-height: 300px;\n",
       "    overflow: auto;\n",
       "  }\n",
       "  table, th, td {\n",
       "    border: 1px solid black;\n",
       "    border-collapse: collapse;\n",
       "  }\n",
       "  th, td {\n",
       "    padding: 5px;\n",
       "  }\n",
       "  th {\n",
       "    text-align: left;\n",
       "  }\n",
       "</style><div class='table-result-container'><table class='table-result'><thead style='background-color: white'><tr><th>Count</th></tr></thead><tbody><tr><td>462</td></tr><tr><td>353</td></tr><tr><td>161</td></tr><tr><td>138</td></tr><tr><td>125</td></tr><tr><td>100</td></tr><tr><td>21</td></tr><tr><td>12</td></tr><tr><td>8</td></tr><tr><td>1</td></tr><tr><td>0</td></tr><tr><td>0</td></tr></tbody></table></div>"
      ]
     },
     "metadata": {
      "application/vnd.databricks.v1+output": {
       "addedWidgets": {},
       "aggData": [],
       "aggError": "",
       "aggOverflow": false,
       "aggSchema": [],
       "aggSeriesLimitReached": false,
       "aggType": "",
       "arguments": {},
       "columnCustomDisplayInfos": {},
       "data": [
        [
         462
        ],
        [
         353
        ],
        [
         161
        ],
        [
         138
        ],
        [
         125
        ],
        [
         100
        ],
        [
         21
        ],
        [
         12
        ],
        [
         8
        ],
        [
         1
        ],
        [
         0
        ],
        [
         0
        ]
       ],
       "datasetInfos": [],
       "dbfsResultPath": null,
       "isJsonSchema": true,
       "metadata": {},
       "overflow": false,
       "plotOptions": {
        "customPlotOptions": {},
        "displayType": "table",
        "pivotAggregation": null,
        "pivotColumns": null,
        "xColumns": null,
        "yColumns": null
       },
       "removedWidgets": [],
       "schema": [
        {
         "metadata": "{}",
         "name": "Count",
         "type": "\"long\""
        }
       ],
       "type": "table"
      }
     },
     "output_type": "display_data"
    }
   ],
   "source": [
    "from pyspark.sql.functions import avg, count, when\n",
    "\n",
    "print(\"Average Toxic Comment Length:\")\n",
    "display(\n",
    "    spark_df.groupBy(\"IsToxic\").agg(avg(\"TextLength\").alias(\"avg_TextLength\"))\n",
    ")\n",
    "\n",
    "print(\"Top Toxic Categories by Frequency:\")\n",
    "category_summary = (\n",
    "    spark_df.select([count(when(col(c)==True, c)).alias(c) for c in label_columns])\n",
    "    .toPandas().T.rename(columns={0: 'Count'})\n",
    ")\n",
    "category_summary.sort_values(by=\"Count\", ascending=False, inplace=True)\n",
    "display(category_summary)"
   ]
  }
 ],
 "metadata": {
  "application/vnd.databricks.v1+notebook": {
   "computePreferences": null,
   "dashboards": [],
   "environmentMetadata": {
    "base_environment": "",
    "environment_version": "4"
   },
   "inputWidgetPreferences": null,
   "language": "python",
   "notebookMetadata": {
    "pythonIndentUnit": 4
   },
   "notebookName": "tds1_note",
   "widgets": {}
  },
  "language_info": {
   "name": "python"
  }
 },
 "nbformat": 4,
 "nbformat_minor": 0
}